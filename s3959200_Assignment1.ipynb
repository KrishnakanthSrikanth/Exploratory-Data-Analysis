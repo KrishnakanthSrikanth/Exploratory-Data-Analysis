{
 "cells": [
  {
   "cell_type": "markdown",
   "id": "932a563d",
   "metadata": {},
   "source": [
    "# Assignment 1 - Data Cleaning and Visualization\n",
    "****"
   ]
  },
  {
   "cell_type": "markdown",
   "id": "f96bf9a5",
   "metadata": {},
   "source": [
    "# Task 1: Data Preparation"
   ]
  },
  {
   "cell_type": "markdown",
   "id": "a3a373a4",
   "metadata": {},
   "source": [
    "###### Importing necessary libraries"
   ]
  },
  {
   "cell_type": "code",
   "execution_count": null,
   "id": "e90f3f11",
   "metadata": {},
   "outputs": [],
   "source": [
    "import pandas as pd\n",
    "import matplotlib.pyplot as plt\n",
    "import warnings\n",
    "warnings.filterwarnings('ignore') # To ignore warnings"
   ]
  },
  {
   "cell_type": "markdown",
   "id": "d45fee1e",
   "metadata": {},
   "source": [
    "###### Importing datasets"
   ]
  },
  {
   "cell_type": "code",
   "execution_count": null,
   "id": "01c9e632",
   "metadata": {},
   "outputs": [],
   "source": [
    "primary = pd.read_csv('./Global database on school-age digital connectivity-Corrected/Primary.csv', \n",
    "                      header=1, error_bad_lines=False, parse_dates=[11], skipinitialspace = True)\n",
    "secondary = pd.read_csv('./Global database on school-age digital connectivity-Corrected/Secondary.csv', \n",
    "                      header=1, error_bad_lines=False, parse_dates=[11], skipinitialspace = True)\n",
    "total_school_age = pd.read_csv('./Global database on school-age digital connectivity-Corrected/Total School Age.csv', \n",
    "                      header=1, error_bad_lines=False, parse_dates=[11], skipinitialspace = True)"
   ]
  },
  {
   "cell_type": "markdown",
   "id": "24ffda94",
   "metadata": {},
   "source": [
    "###### Viewing the imported datasets"
   ]
  },
  {
   "cell_type": "code",
   "execution_count": null,
   "id": "baf8f02c",
   "metadata": {},
   "outputs": [],
   "source": [
    "primary.head(2)"
   ]
  },
  {
   "cell_type": "code",
   "execution_count": null,
   "id": "5d3294fc",
   "metadata": {},
   "outputs": [],
   "source": [
    "secondary.head(2)"
   ]
  },
  {
   "cell_type": "code",
   "execution_count": null,
   "id": "8536a11e",
   "metadata": {},
   "outputs": [],
   "source": [
    "total_school_age.head(2)"
   ]
  },
  {
   "cell_type": "markdown",
   "id": "24ad14ea",
   "metadata": {},
   "source": [
    "###### Checking the data types"
   ]
  },
  {
   "cell_type": "code",
   "execution_count": null,
   "id": "7f41911b",
   "metadata": {},
   "outputs": [],
   "source": [
    "primary.dtypes"
   ]
  },
  {
   "cell_type": "code",
   "execution_count": null,
   "id": "8b6b793b",
   "metadata": {},
   "outputs": [],
   "source": [
    "secondary.dtypes"
   ]
  },
  {
   "cell_type": "code",
   "execution_count": null,
   "id": "7f2428c0",
   "metadata": {},
   "outputs": [],
   "source": [
    "total_school_age.dtypes"
   ]
  },
  {
   "cell_type": "markdown",
   "id": "284ab9d1",
   "metadata": {},
   "source": [
    "###### Checking for null values"
   ]
  },
  {
   "cell_type": "code",
   "execution_count": null,
   "id": "23040b5d",
   "metadata": {},
   "outputs": [],
   "source": [
    "primary.isnull().sum()"
   ]
  },
  {
   "cell_type": "code",
   "execution_count": null,
   "id": "d6c8c254",
   "metadata": {},
   "outputs": [],
   "source": [
    "secondary.isnull().sum()"
   ]
  },
  {
   "cell_type": "code",
   "execution_count": null,
   "id": "87d4af8d",
   "metadata": {},
   "outputs": [],
   "source": [
    "total_school_age.isnull().sum()"
   ]
  },
  {
   "cell_type": "markdown",
   "id": "fad73545",
   "metadata": {},
   "source": [
    "###### Making a copy of original dataset"
   ]
  },
  {
   "cell_type": "code",
   "execution_count": null,
   "id": "2057f4df",
   "metadata": {},
   "outputs": [],
   "source": [
    "primary_copy = primary.copy()"
   ]
  },
  {
   "cell_type": "code",
   "execution_count": null,
   "id": "584b648c",
   "metadata": {},
   "outputs": [],
   "source": [
    "secondary_copy = secondary.copy()"
   ]
  },
  {
   "cell_type": "code",
   "execution_count": null,
   "id": "28a4398a",
   "metadata": {},
   "outputs": [],
   "source": [
    "total_school_age_copy = total_school_age.copy()"
   ]
  },
  {
   "cell_type": "markdown",
   "id": "5d506a45",
   "metadata": {},
   "source": [
    "##### Cleaning Primary.csv file"
   ]
  },
  {
   "cell_type": "markdown",
   "id": "5658bb73",
   "metadata": {},
   "source": [
    "###### Checking for unique values in the column"
   ]
  },
  {
   "cell_type": "code",
   "execution_count": null,
   "id": "a78be385",
   "metadata": {},
   "outputs": [],
   "source": [
    "primary_copy['Income Group'].value_counts()"
   ]
  },
  {
   "cell_type": "code",
   "execution_count": null,
   "id": "c100d377",
   "metadata": {},
   "outputs": [],
   "source": [
    "# Before dropping 'Data Source', 'Region', 'Sub-region', 'Time period' columnns\n",
    "primary_copy.shape"
   ]
  },
  {
   "cell_type": "markdown",
   "id": "7f461f0f",
   "metadata": {},
   "source": [
    "###### Adding a new column 'Survey Year' to replace 'Time period'"
   ]
  },
  {
   "cell_type": "code",
   "execution_count": null,
   "id": "154360fa",
   "metadata": {},
   "outputs": [],
   "source": [
    "primary_copy['Survey Year'] = primary_copy['Time period'].apply(lambda x: max(map(str, x.split('-'))))"
   ]
  },
  {
   "cell_type": "markdown",
   "id": "f6cbc399",
   "metadata": {},
   "source": [
    "###### Dropping unwanted columns"
   ]
  },
  {
   "cell_type": "code",
   "execution_count": null,
   "id": "d9d10781",
   "metadata": {},
   "outputs": [],
   "source": [
    "# Dropping 'Data Source', 'Sub-region', 'Time period' columnns\n",
    "primary_copy.drop(['Data source', 'Sub-region', 'Time period'], axis=1, inplace=True)"
   ]
  },
  {
   "cell_type": "code",
   "execution_count": null,
   "id": "0d138974",
   "metadata": {},
   "outputs": [],
   "source": [
    "# After dropping 'Data Source', 'Region', 'Sub-region', 'Time period' columnns\n",
    "primary_copy.shape"
   ]
  },
  {
   "cell_type": "code",
   "execution_count": null,
   "id": "93abfe65",
   "metadata": {},
   "outputs": [],
   "source": [
    "# Removing rows with more than 3 missing values\n",
    "primary_copy=primary_copy.loc[primary_copy.isnull().mean(axis=1)<0.25]"
   ]
  },
  {
   "cell_type": "code",
   "execution_count": null,
   "id": "6e749ce5",
   "metadata": {},
   "outputs": [],
   "source": [
    "# Check for instance which had 3 missing values\n",
    "primary_copy[primary_copy['Countries and areas'] == 'Italy']"
   ]
  },
  {
   "cell_type": "code",
   "execution_count": null,
   "id": "f3ea4abe",
   "metadata": {},
   "outputs": [],
   "source": [
    "primary_copy.tail()"
   ]
  },
  {
   "cell_type": "markdown",
   "id": "48c5fb31",
   "metadata": {},
   "source": [
    "###### Replacing % and converting object type to float"
   ]
  },
  {
   "cell_type": "code",
   "execution_count": null,
   "id": "fd7fc845",
   "metadata": {},
   "outputs": [],
   "source": [
    "primary_copy['Rural (Residence)'] = primary_copy['Rural (Residence)'].astype('str').str.replace('%', '').astype('float')"
   ]
  },
  {
   "cell_type": "code",
   "execution_count": null,
   "id": "32eb89b8",
   "metadata": {},
   "outputs": [],
   "source": [
    "primary_copy['Urban (Residence)'] = primary_copy['Urban (Residence)'].astype('str').str.replace('%', '').astype('float')"
   ]
  },
  {
   "cell_type": "code",
   "execution_count": null,
   "id": "f62f5909",
   "metadata": {},
   "outputs": [],
   "source": [
    "primary_copy['Poorest (Wealth quintile)'] = primary_copy['Poorest (Wealth quintile)'].astype('str').str.replace('%', '').astype('float')"
   ]
  },
  {
   "cell_type": "code",
   "execution_count": null,
   "id": "dd0ee34b",
   "metadata": {},
   "outputs": [],
   "source": [
    "primary_copy['Richest (Wealth quintile)'] = primary_copy['Poorest (Wealth quintile)'].astype('str').str.replace('%', '').astype('float')"
   ]
  },
  {
   "cell_type": "code",
   "execution_count": null,
   "id": "3f7c6aa9",
   "metadata": {},
   "outputs": [],
   "source": [
    "primary_copy['Total'] = primary_copy['Total'].astype('str').str.replace('%', '').astype('float')"
   ]
  },
  {
   "cell_type": "code",
   "execution_count": null,
   "id": "1a2b07b3",
   "metadata": {
    "scrolled": true
   },
   "outputs": [],
   "source": [
    "primary_copy.dtypes"
   ]
  },
  {
   "cell_type": "markdown",
   "id": "64efcca2",
   "metadata": {},
   "source": [
    "##### Handling Missing Values"
   ]
  },
  {
   "cell_type": "code",
   "execution_count": null,
   "id": "9b5910a6",
   "metadata": {},
   "outputs": [],
   "source": [
    "# Checking for missing values before handling them\n",
    "primary_copy.isnull().sum()"
   ]
  },
  {
   "cell_type": "markdown",
   "id": "376d4f23",
   "metadata": {},
   "source": [
    "###### Filling missing values with their respective mean values"
   ]
  },
  {
   "cell_type": "code",
   "execution_count": null,
   "id": "3d3d546c",
   "metadata": {
    "scrolled": true
   },
   "outputs": [],
   "source": [
    "primary_copy['Rural (Residence)'].fillna(primary_copy['Rural (Residence)'].mean(axis=0), inplace=True)"
   ]
  },
  {
   "cell_type": "code",
   "execution_count": null,
   "id": "695930d1",
   "metadata": {
    "scrolled": true
   },
   "outputs": [],
   "source": [
    "primary_copy['Urban (Residence)'].fillna(primary_copy['Urban (Residence)'].mean(axis=0), inplace=True)"
   ]
  },
  {
   "cell_type": "code",
   "execution_count": null,
   "id": "0373b6a5",
   "metadata": {},
   "outputs": [],
   "source": [
    "primary_copy['Poorest (Wealth quintile)'].fillna(primary_copy['Poorest (Wealth quintile)'].mean(axis=0), inplace=True)"
   ]
  },
  {
   "cell_type": "code",
   "execution_count": null,
   "id": "ad32fb06",
   "metadata": {},
   "outputs": [],
   "source": [
    "primary_copy['Richest (Wealth quintile)'].fillna(primary_copy['Richest (Wealth quintile)'].mean(axis=0), inplace=True)"
   ]
  },
  {
   "cell_type": "code",
   "execution_count": null,
   "id": "e4557098",
   "metadata": {},
   "outputs": [],
   "source": [
    "# Checking for missing values after handling them\n",
    "primary_copy.isnull().sum()"
   ]
  },
  {
   "cell_type": "markdown",
   "id": "183da1e2",
   "metadata": {},
   "source": [
    "###### Rounding values to 1 decimal place"
   ]
  },
  {
   "cell_type": "code",
   "execution_count": null,
   "id": "edd735c8",
   "metadata": {},
   "outputs": [],
   "source": [
    "primary_copy['Richest (Wealth quintile)']=primary_copy['Richest (Wealth quintile)'].round(1)"
   ]
  },
  {
   "cell_type": "code",
   "execution_count": null,
   "id": "eb86fdb0",
   "metadata": {},
   "outputs": [],
   "source": [
    "primary_copy['Poorest (Wealth quintile)']=primary_copy['Poorest (Wealth quintile)'].round(1)"
   ]
  },
  {
   "cell_type": "markdown",
   "id": "6152cabe",
   "metadata": {},
   "source": [
    "###### Converting float to int"
   ]
  },
  {
   "cell_type": "code",
   "execution_count": null,
   "id": "2c9da222",
   "metadata": {},
   "outputs": [],
   "source": [
    "primary_copy['Rural (Residence)'] = primary_copy['Rural (Residence)'].astype(int)"
   ]
  },
  {
   "cell_type": "code",
   "execution_count": null,
   "id": "a3fb084e",
   "metadata": {},
   "outputs": [],
   "source": [
    "primary_copy['Urban (Residence)'] = primary_copy['Urban (Residence)'].astype(int)"
   ]
  },
  {
   "cell_type": "code",
   "execution_count": null,
   "id": "6633521e",
   "metadata": {},
   "outputs": [],
   "source": [
    "primary_copy['Richest (Wealth quintile)'] = primary_copy['Richest (Wealth quintile)'].astype(int)"
   ]
  },
  {
   "cell_type": "code",
   "execution_count": null,
   "id": "eaaaf637",
   "metadata": {},
   "outputs": [],
   "source": [
    "primary_copy['Poorest (Wealth quintile)'] = primary_copy['Poorest (Wealth quintile)'].astype(int)"
   ]
  },
  {
   "cell_type": "code",
   "execution_count": null,
   "id": "829c699f",
   "metadata": {},
   "outputs": [],
   "source": [
    "primary_copy['Total'] = primary_copy['Total'].astype(int)"
   ]
  },
  {
   "cell_type": "code",
   "execution_count": null,
   "id": "c894d52a",
   "metadata": {},
   "outputs": [],
   "source": [
    "# Check\n",
    "primary_copy[primary_copy['Countries and areas'] == 'Egypt']"
   ]
  },
  {
   "cell_type": "markdown",
   "id": "c5115a0a",
   "metadata": {},
   "source": [
    "###### Replacing invalid years"
   ]
  },
  {
   "cell_type": "code",
   "execution_count": null,
   "id": "bfedc051",
   "metadata": {},
   "outputs": [],
   "source": [
    "primary_copy['Survey Year'].value_counts()"
   ]
  },
  {
   "cell_type": "code",
   "execution_count": null,
   "id": "0120708c",
   "metadata": {},
   "outputs": [],
   "source": [
    "primary_copy['Survey Year'].replace(['99', '2076', '2027', '2562'], method='bfill', inplace=True)"
   ]
  },
  {
   "cell_type": "code",
   "execution_count": null,
   "id": "658fbd70",
   "metadata": {},
   "outputs": [],
   "source": [
    "primary_copy['Survey Year'].value_counts()"
   ]
  },
  {
   "cell_type": "markdown",
   "id": "c9eb2e5c",
   "metadata": {},
   "source": [
    "##### Cleaning Secondary.csv file"
   ]
  },
  {
   "cell_type": "code",
   "execution_count": null,
   "id": "c96963cd",
   "metadata": {},
   "outputs": [],
   "source": [
    "secondary_copy['Income Group'].value_counts()"
   ]
  },
  {
   "cell_type": "code",
   "execution_count": null,
   "id": "97e810c7",
   "metadata": {},
   "outputs": [],
   "source": [
    "# Before dropping 'Data Source', 'Region', 'Sub-region', 'Time period' columnns\n",
    "secondary_copy.shape"
   ]
  },
  {
   "cell_type": "markdown",
   "id": "f14a47e9",
   "metadata": {},
   "source": [
    "###### Adding a new column 'Survey Year' to replace 'Time period'"
   ]
  },
  {
   "cell_type": "code",
   "execution_count": null,
   "id": "df25f6a1",
   "metadata": {
    "scrolled": true
   },
   "outputs": [],
   "source": [
    "secondary_copy['Survey Year'] = secondary_copy['Time period'].apply(lambda x: max(map(str, x.split('-'))))"
   ]
  },
  {
   "cell_type": "markdown",
   "id": "9bac0df5",
   "metadata": {},
   "source": [
    "###### Dropping unwanted columns"
   ]
  },
  {
   "cell_type": "code",
   "execution_count": null,
   "id": "ae862a2d",
   "metadata": {},
   "outputs": [],
   "source": [
    "# Dropping 'Data Source', 'Sub-region', 'Time period' columnns\n",
    "secondary_copy.drop(['Data source', 'Sub-region', 'Time period'], axis=1, inplace=True)"
   ]
  },
  {
   "cell_type": "code",
   "execution_count": null,
   "id": "3ce313a8",
   "metadata": {},
   "outputs": [],
   "source": [
    "# After dropping 'Data Source', 'Region', 'Sub-region', 'Time period' columnns\n",
    "secondary_copy.shape"
   ]
  },
  {
   "cell_type": "code",
   "execution_count": null,
   "id": "c9bb7fed",
   "metadata": {},
   "outputs": [],
   "source": [
    "# Removing rows with more than 3 missing values\n",
    "secondary_copy=secondary_copy.loc[secondary_copy.isnull().mean(axis=1)<0.25]"
   ]
  },
  {
   "cell_type": "code",
   "execution_count": null,
   "id": "35234ddc",
   "metadata": {},
   "outputs": [],
   "source": [
    "# Check for instance which had 3 missing values\n",
    "secondary_copy[secondary_copy['Countries and areas'] == 'Italy']"
   ]
  },
  {
   "cell_type": "code",
   "execution_count": null,
   "id": "0c040d84",
   "metadata": {},
   "outputs": [],
   "source": [
    "secondary_copy.tail()"
   ]
  },
  {
   "cell_type": "markdown",
   "id": "e8f1a8ee",
   "metadata": {},
   "source": [
    "###### Replacing % and converting object type to float"
   ]
  },
  {
   "cell_type": "code",
   "execution_count": null,
   "id": "2b0dd3e8",
   "metadata": {},
   "outputs": [],
   "source": [
    "secondary_copy['Rural (Residence)'] = secondary_copy['Rural (Residence)'].astype('str').str.replace('%', '').astype('float')"
   ]
  },
  {
   "cell_type": "code",
   "execution_count": null,
   "id": "ea1282f9",
   "metadata": {},
   "outputs": [],
   "source": [
    "secondary_copy['Urban (Residence)'] = secondary_copy['Urban (Residence)'].astype('str').str.replace('%', '').astype('float')"
   ]
  },
  {
   "cell_type": "code",
   "execution_count": null,
   "id": "762b7e5d",
   "metadata": {},
   "outputs": [],
   "source": [
    "secondary_copy['Poorest (Wealth quintile)'] = secondary_copy['Poorest (Wealth quintile)'].astype('str').str.replace('%', '').astype('float')"
   ]
  },
  {
   "cell_type": "code",
   "execution_count": null,
   "id": "a27b1990",
   "metadata": {},
   "outputs": [],
   "source": [
    "secondary_copy['Richest (Wealth quintile)'] = secondary_copy['Poorest (Wealth quintile)'].astype('str').str.replace('%', '').astype('float')"
   ]
  },
  {
   "cell_type": "code",
   "execution_count": null,
   "id": "65f75b7d",
   "metadata": {},
   "outputs": [],
   "source": [
    "secondary_copy['Total'] = secondary_copy['Total'].astype('str').str.replace('%', '').astype('float')"
   ]
  },
  {
   "cell_type": "code",
   "execution_count": null,
   "id": "955895d6",
   "metadata": {},
   "outputs": [],
   "source": [
    "secondary_copy.dtypes"
   ]
  },
  {
   "cell_type": "markdown",
   "id": "57af473d",
   "metadata": {},
   "source": [
    "##### Handling Missing Values"
   ]
  },
  {
   "cell_type": "code",
   "execution_count": null,
   "id": "8dda1d60",
   "metadata": {},
   "outputs": [],
   "source": [
    "# Checking for missing values before handling them\n",
    "secondary_copy.isnull().sum()"
   ]
  },
  {
   "cell_type": "markdown",
   "id": "726f44a3",
   "metadata": {},
   "source": [
    "###### Filling missing values with their respective mean values"
   ]
  },
  {
   "cell_type": "code",
   "execution_count": null,
   "id": "c81fdb80",
   "metadata": {},
   "outputs": [],
   "source": [
    "secondary_copy['Rural (Residence)'].fillna(secondary_copy['Rural (Residence)'].mean(axis=0), inplace=True)"
   ]
  },
  {
   "cell_type": "code",
   "execution_count": null,
   "id": "5da1e24a",
   "metadata": {},
   "outputs": [],
   "source": [
    "secondary_copy['Urban (Residence)'].fillna(secondary_copy['Urban (Residence)'].mean(axis=0), inplace=True)"
   ]
  },
  {
   "cell_type": "code",
   "execution_count": null,
   "id": "bdcdb6a1",
   "metadata": {},
   "outputs": [],
   "source": [
    "secondary_copy['Poorest (Wealth quintile)'].fillna(secondary_copy['Poorest (Wealth quintile)'].mean(axis=0), inplace=True)"
   ]
  },
  {
   "cell_type": "code",
   "execution_count": null,
   "id": "a4f3742b",
   "metadata": {},
   "outputs": [],
   "source": [
    "secondary_copy['Richest (Wealth quintile)'].fillna(secondary_copy['Richest (Wealth quintile)'].mean(axis=0), inplace=True)"
   ]
  },
  {
   "cell_type": "code",
   "execution_count": null,
   "id": "dc973f36",
   "metadata": {},
   "outputs": [],
   "source": [
    "# Checking for missing values after handling them\n",
    "secondary_copy.isnull().sum()"
   ]
  },
  {
   "cell_type": "markdown",
   "id": "74c9ab0e",
   "metadata": {},
   "source": [
    "###### Rounding values to 1 decimal place"
   ]
  },
  {
   "cell_type": "code",
   "execution_count": null,
   "id": "b24a7761",
   "metadata": {},
   "outputs": [],
   "source": [
    "secondary_copy['Richest (Wealth quintile)']=secondary_copy['Richest (Wealth quintile)'].round(1)"
   ]
  },
  {
   "cell_type": "code",
   "execution_count": null,
   "id": "2d83366e",
   "metadata": {},
   "outputs": [],
   "source": [
    "secondary_copy['Poorest (Wealth quintile)']=secondary_copy['Poorest (Wealth quintile)'].round(1)"
   ]
  },
  {
   "cell_type": "markdown",
   "id": "72c5cd17",
   "metadata": {},
   "source": [
    "###### Converting float to int"
   ]
  },
  {
   "cell_type": "code",
   "execution_count": null,
   "id": "b035e18f",
   "metadata": {},
   "outputs": [],
   "source": [
    "secondary_copy['Rural (Residence)'] = secondary_copy['Rural (Residence)'].astype(int)"
   ]
  },
  {
   "cell_type": "code",
   "execution_count": null,
   "id": "5eb19f22",
   "metadata": {},
   "outputs": [],
   "source": [
    "secondary_copy['Urban (Residence)'] = secondary_copy['Urban (Residence)'].astype(int)"
   ]
  },
  {
   "cell_type": "code",
   "execution_count": null,
   "id": "e1a5f8c6",
   "metadata": {},
   "outputs": [],
   "source": [
    "secondary_copy['Richest (Wealth quintile)'] = secondary_copy['Richest (Wealth quintile)'].astype(int)"
   ]
  },
  {
   "cell_type": "code",
   "execution_count": null,
   "id": "ab55df28",
   "metadata": {},
   "outputs": [],
   "source": [
    "secondary_copy['Poorest (Wealth quintile)'] = secondary_copy['Poorest (Wealth quintile)'].astype(int)"
   ]
  },
  {
   "cell_type": "code",
   "execution_count": null,
   "id": "31d95c1a",
   "metadata": {},
   "outputs": [],
   "source": [
    "secondary_copy['Total'] = secondary_copy['Total'].astype(int)"
   ]
  },
  {
   "cell_type": "code",
   "execution_count": null,
   "id": "02b121a9",
   "metadata": {},
   "outputs": [],
   "source": [
    "# Check\n",
    "secondary_copy[secondary_copy['Countries and areas'] == 'Saint Lucia']"
   ]
  },
  {
   "cell_type": "markdown",
   "id": "21d94c7b",
   "metadata": {},
   "source": [
    "###### Renaming incorrect ISO code ('AGOA' to 'AGO')"
   ]
  },
  {
   "cell_type": "code",
   "execution_count": null,
   "id": "6f40341e",
   "metadata": {},
   "outputs": [],
   "source": [
    "# Before renaming 'AGOA' to 'AGO'\n",
    "secondary_copy[secondary_copy['ISO3']=='AGOA']"
   ]
  },
  {
   "cell_type": "code",
   "execution_count": null,
   "id": "edb13e42",
   "metadata": {},
   "outputs": [],
   "source": [
    "# Renaming 'AGOA' to 'AGO'\n",
    "secondary_copy['ISO3'].replace('AGOA', 'AGO', inplace=True)"
   ]
  },
  {
   "cell_type": "code",
   "execution_count": null,
   "id": "043ddcd0",
   "metadata": {},
   "outputs": [],
   "source": [
    "# After renaming 'AGOA' to 'AGO'\n",
    "secondary_copy[secondary_copy['ISO3']=='AGOA']"
   ]
  },
  {
   "cell_type": "markdown",
   "id": "1aebb628",
   "metadata": {},
   "source": [
    "###### Replacing invalid years"
   ]
  },
  {
   "cell_type": "code",
   "execution_count": null,
   "id": "a8423065",
   "metadata": {},
   "outputs": [],
   "source": [
    "secondary_copy['Survey Year'].value_counts()"
   ]
  },
  {
   "cell_type": "code",
   "execution_count": null,
   "id": "beed4bad",
   "metadata": {},
   "outputs": [],
   "source": [
    "secondary_copy['Survey Year'].replace(['99', '2076', '3019', '2562'], method='bfill', inplace=True)"
   ]
  },
  {
   "cell_type": "code",
   "execution_count": null,
   "id": "a354bd42",
   "metadata": {},
   "outputs": [],
   "source": [
    "secondary_copy['Survey Year'].value_counts()"
   ]
  },
  {
   "cell_type": "markdown",
   "id": "a3626d12",
   "metadata": {},
   "source": [
    "##### Cleaning Total School Age.csv file"
   ]
  },
  {
   "cell_type": "code",
   "execution_count": null,
   "id": "675eeabb",
   "metadata": {},
   "outputs": [],
   "source": [
    "total_school_age_copy['Income Group'].value_counts()"
   ]
  },
  {
   "cell_type": "code",
   "execution_count": null,
   "id": "a8c44f06",
   "metadata": {},
   "outputs": [],
   "source": [
    "# Correcting 'Income Group' for typo\n",
    "total_school_age_copy['Income Group'].replace('Lowerr middle income (LM)', 'Lower middle income (LM)', inplace=True)"
   ]
  },
  {
   "cell_type": "code",
   "execution_count": null,
   "id": "3ee55e0f",
   "metadata": {},
   "outputs": [],
   "source": [
    "# Check\n",
    "total_school_age_copy['Income Group'].value_counts()"
   ]
  },
  {
   "cell_type": "code",
   "execution_count": null,
   "id": "88dd7081",
   "metadata": {},
   "outputs": [],
   "source": [
    "# Before dropping 'Data Source', 'Region', 'Sub-region', 'Time period' columnns\n",
    "total_school_age_copy.shape"
   ]
  },
  {
   "cell_type": "markdown",
   "id": "15ee5258",
   "metadata": {},
   "source": [
    "###### Adding a new column 'Survey Year' to replace 'Time period'"
   ]
  },
  {
   "cell_type": "code",
   "execution_count": null,
   "id": "01a8963f",
   "metadata": {},
   "outputs": [],
   "source": [
    "total_school_age_copy['Survey Year'] = total_school_age_copy['Time period'].apply(lambda x: max(map(str, x.split('-'))))"
   ]
  },
  {
   "cell_type": "markdown",
   "id": "1ed5186a",
   "metadata": {},
   "source": [
    "###### Dropping unwanted columns"
   ]
  },
  {
   "cell_type": "code",
   "execution_count": null,
   "id": "3a540a31",
   "metadata": {},
   "outputs": [],
   "source": [
    "# Dropping 'Data Source', 'Sub-region', 'Time period' columnns\n",
    "total_school_age_copy.drop(['Data source', 'Sub-region','Time period'], axis=1, inplace=True)"
   ]
  },
  {
   "cell_type": "code",
   "execution_count": null,
   "id": "e2fda503",
   "metadata": {},
   "outputs": [],
   "source": [
    "# After dropping 'Data Source', 'Region', 'Sub-region', 'Time period' columnns\n",
    "total_school_age_copy.shape"
   ]
  },
  {
   "cell_type": "code",
   "execution_count": null,
   "id": "3f075241",
   "metadata": {},
   "outputs": [],
   "source": [
    "# Removing rows with more than 3 missing values\n",
    "total_school_age_copy=total_school_age_copy.loc[total_school_age_copy.isnull().mean(axis=1)<0.25]"
   ]
  },
  {
   "cell_type": "code",
   "execution_count": null,
   "id": "a8bfc116",
   "metadata": {},
   "outputs": [],
   "source": [
    "# Check for instance which had 3 missing values\n",
    "total_school_age_copy[total_school_age_copy['Countries and areas'] == 'Argentina']"
   ]
  },
  {
   "cell_type": "code",
   "execution_count": null,
   "id": "9a8e5bd9",
   "metadata": {},
   "outputs": [],
   "source": [
    "total_school_age_copy.tail()"
   ]
  },
  {
   "cell_type": "markdown",
   "id": "66741b4e",
   "metadata": {},
   "source": [
    "###### Replacing % and converting object type to float"
   ]
  },
  {
   "cell_type": "code",
   "execution_count": null,
   "id": "7f3c877e",
   "metadata": {},
   "outputs": [],
   "source": [
    "total_school_age_copy['Rural (Residence)'] = total_school_age_copy['Rural (Residence)'].astype('str').str.replace('%', '').astype('float')"
   ]
  },
  {
   "cell_type": "code",
   "execution_count": null,
   "id": "5c99bc2d",
   "metadata": {},
   "outputs": [],
   "source": [
    "total_school_age_copy['Urban (Residence)'] = total_school_age_copy['Urban (Residence)'].astype('str').str.replace('%', '').astype('float')"
   ]
  },
  {
   "cell_type": "code",
   "execution_count": null,
   "id": "ee1ff7dd",
   "metadata": {},
   "outputs": [],
   "source": [
    "total_school_age_copy['Poorest (Wealth quintile)'] = total_school_age_copy['Poorest (Wealth quintile)'].astype('str').str.replace('%', '').astype('float')"
   ]
  },
  {
   "cell_type": "code",
   "execution_count": null,
   "id": "f407f572",
   "metadata": {},
   "outputs": [],
   "source": [
    "total_school_age_copy['Richest (Wealth quintile)'] = total_school_age_copy['Poorest (Wealth quintile)'].astype('str').str.replace('%', '').astype('float')"
   ]
  },
  {
   "cell_type": "code",
   "execution_count": null,
   "id": "b24c51ce",
   "metadata": {},
   "outputs": [],
   "source": [
    "total_school_age_copy['Total'] = total_school_age_copy['Total'].astype('str').str.replace('%', '').astype('float')"
   ]
  },
  {
   "cell_type": "code",
   "execution_count": null,
   "id": "3919d6ab",
   "metadata": {},
   "outputs": [],
   "source": [
    "total_school_age_copy.dtypes"
   ]
  },
  {
   "cell_type": "markdown",
   "id": "bff682c3",
   "metadata": {},
   "source": [
    "##### Handling Missing Values"
   ]
  },
  {
   "cell_type": "code",
   "execution_count": null,
   "id": "4f5d2652",
   "metadata": {},
   "outputs": [],
   "source": [
    "# Checking for missing values before handling them\n",
    "total_school_age_copy.isnull().sum()"
   ]
  },
  {
   "cell_type": "markdown",
   "id": "8ce20c4e",
   "metadata": {},
   "source": [
    "###### Filling missing values with their respective mean values"
   ]
  },
  {
   "cell_type": "code",
   "execution_count": null,
   "id": "e7990465",
   "metadata": {},
   "outputs": [],
   "source": [
    "total_school_age_copy['Rural (Residence)'].fillna(total_school_age_copy['Rural (Residence)'].mean(axis=0), inplace=True)"
   ]
  },
  {
   "cell_type": "code",
   "execution_count": null,
   "id": "1e4c3416",
   "metadata": {},
   "outputs": [],
   "source": [
    "total_school_age_copy['Urban (Residence)'].fillna(total_school_age_copy['Urban (Residence)'].mean(axis=0), inplace=True)"
   ]
  },
  {
   "cell_type": "code",
   "execution_count": null,
   "id": "5b8b0060",
   "metadata": {},
   "outputs": [],
   "source": [
    "total_school_age_copy['Poorest (Wealth quintile)'].fillna(total_school_age_copy['Poorest (Wealth quintile)'].mean(axis=0), inplace=True)"
   ]
  },
  {
   "cell_type": "code",
   "execution_count": null,
   "id": "ee7265e0",
   "metadata": {},
   "outputs": [],
   "source": [
    "total_school_age_copy['Richest (Wealth quintile)'].fillna(total_school_age_copy['Richest (Wealth quintile)'].mean(axis=0), inplace=True)"
   ]
  },
  {
   "cell_type": "code",
   "execution_count": null,
   "id": "2547fb9e",
   "metadata": {},
   "outputs": [],
   "source": [
    "# Checking for missing values after handling them\n",
    "total_school_age_copy.isnull().sum()"
   ]
  },
  {
   "cell_type": "markdown",
   "id": "ced1141e",
   "metadata": {},
   "source": [
    "###### Checking for duplicated values"
   ]
  },
  {
   "cell_type": "code",
   "execution_count": null,
   "id": "2db790c9",
   "metadata": {},
   "outputs": [],
   "source": [
    "primary_copy.duplicated().sum()"
   ]
  },
  {
   "cell_type": "code",
   "execution_count": null,
   "id": "518cd352",
   "metadata": {},
   "outputs": [],
   "source": [
    "secondary_copy.duplicated().sum()"
   ]
  },
  {
   "cell_type": "code",
   "execution_count": null,
   "id": "0a9b320b",
   "metadata": {},
   "outputs": [],
   "source": [
    "total_school_age_copy.duplicated().sum()"
   ]
  },
  {
   "cell_type": "markdown",
   "id": "87959680",
   "metadata": {},
   "source": [
    "###### Rounding values to 1 decimal place"
   ]
  },
  {
   "cell_type": "code",
   "execution_count": null,
   "id": "09bf4c20",
   "metadata": {},
   "outputs": [],
   "source": [
    "total_school_age_copy['Richest (Wealth quintile)']=total_school_age_copy['Richest (Wealth quintile)'].round(1)"
   ]
  },
  {
   "cell_type": "code",
   "execution_count": null,
   "id": "9501a9da",
   "metadata": {},
   "outputs": [],
   "source": [
    "total_school_age_copy['Poorest (Wealth quintile)']=total_school_age_copy['Poorest (Wealth quintile)'].round(1)"
   ]
  },
  {
   "cell_type": "markdown",
   "id": "a875bf2f",
   "metadata": {},
   "source": [
    "###### Converting float to int"
   ]
  },
  {
   "cell_type": "code",
   "execution_count": null,
   "id": "74a8856d",
   "metadata": {},
   "outputs": [],
   "source": [
    "total_school_age_copy['Rural (Residence)'] = total_school_age_copy['Rural (Residence)'].astype(int)"
   ]
  },
  {
   "cell_type": "code",
   "execution_count": null,
   "id": "4c012434",
   "metadata": {},
   "outputs": [],
   "source": [
    "total_school_age_copy['Urban (Residence)'] = total_school_age_copy['Urban (Residence)'].astype(int)"
   ]
  },
  {
   "cell_type": "code",
   "execution_count": null,
   "id": "9c4ae9e9",
   "metadata": {},
   "outputs": [],
   "source": [
    "total_school_age_copy['Richest (Wealth quintile)'] = total_school_age_copy['Richest (Wealth quintile)'].astype(int)"
   ]
  },
  {
   "cell_type": "code",
   "execution_count": null,
   "id": "00a75ed8",
   "metadata": {},
   "outputs": [],
   "source": [
    "total_school_age_copy['Poorest (Wealth quintile)'] = total_school_age_copy['Poorest (Wealth quintile)'].astype(int)"
   ]
  },
  {
   "cell_type": "code",
   "execution_count": null,
   "id": "0bebb25a",
   "metadata": {},
   "outputs": [],
   "source": [
    "total_school_age_copy['Total'] = total_school_age_copy['Total'].astype(int)"
   ]
  },
  {
   "cell_type": "code",
   "execution_count": null,
   "id": "eba36519",
   "metadata": {},
   "outputs": [],
   "source": [
    "# Check\n",
    "total_school_age_copy[total_school_age_copy['Countries and areas'] == 'China']"
   ]
  },
  {
   "cell_type": "markdown",
   "id": "1b75bf17",
   "metadata": {},
   "source": [
    "###### Replacing invalid years"
   ]
  },
  {
   "cell_type": "code",
   "execution_count": null,
   "id": "78c5ae3a",
   "metadata": {},
   "outputs": [],
   "source": [
    "total_school_age_copy['Survey Year'].value_counts()"
   ]
  },
  {
   "cell_type": "code",
   "execution_count": null,
   "id": "113dd2cb",
   "metadata": {},
   "outputs": [],
   "source": [
    "total_school_age_copy['Survey Year'].replace(['99', '2076', '2562'], method='bfill', inplace=True)"
   ]
  },
  {
   "cell_type": "code",
   "execution_count": null,
   "id": "a9bdb0ed",
   "metadata": {},
   "outputs": [],
   "source": [
    "total_school_age_copy['Survey Year'].value_counts()"
   ]
  },
  {
   "cell_type": "markdown",
   "id": "812e4738",
   "metadata": {},
   "source": [
    "##### Exporting to CSV"
   ]
  },
  {
   "cell_type": "code",
   "execution_count": null,
   "id": "0091a205",
   "metadata": {},
   "outputs": [],
   "source": [
    "primary_copy.to_csv('cleaned_primary.csv', index=False)"
   ]
  },
  {
   "cell_type": "code",
   "execution_count": null,
   "id": "c19214fc",
   "metadata": {},
   "outputs": [],
   "source": [
    "secondary_copy.to_csv('cleaned_secondary.csv', index=False)"
   ]
  },
  {
   "cell_type": "code",
   "execution_count": null,
   "id": "515a6bca",
   "metadata": {},
   "outputs": [],
   "source": [
    "total_school_age_copy.to_csv('cleaned_total_school_age.csv', index=False)"
   ]
  },
  {
   "cell_type": "markdown",
   "id": "2f9685b3",
   "metadata": {},
   "source": [
    "##### Data Exploration"
   ]
  },
  {
   "cell_type": "code",
   "execution_count": null,
   "id": "1d5ab9b5",
   "metadata": {},
   "outputs": [],
   "source": [
    "primary_copy.describe()"
   ]
  },
  {
   "cell_type": "code",
   "execution_count": null,
   "id": "2a172d3b",
   "metadata": {},
   "outputs": [],
   "source": [
    "# Box plot for 'Total' to check outliers if any \n",
    "primary_copy['Total'].plot(kind='box')\n",
    "plt.show()"
   ]
  },
  {
   "cell_type": "code",
   "execution_count": null,
   "id": "c4af7e33",
   "metadata": {},
   "outputs": [],
   "source": [
    "secondary_copy.describe()"
   ]
  },
  {
   "cell_type": "code",
   "execution_count": null,
   "id": "b6058e01",
   "metadata": {},
   "outputs": [],
   "source": [
    "# Box plot for 'Total' to check outliers if any\n",
    "secondary_copy['Total'].plot(kind='box')\n",
    "plt.show()"
   ]
  },
  {
   "cell_type": "code",
   "execution_count": null,
   "id": "274bc376",
   "metadata": {},
   "outputs": [],
   "source": [
    "total_school_age_copy.describe()"
   ]
  },
  {
   "cell_type": "code",
   "execution_count": null,
   "id": "5ac0559f",
   "metadata": {},
   "outputs": [],
   "source": [
    "# Box plot for 'Total' to check outliers if any\n",
    "total_school_age_copy['Total'].plot(kind='box')\n",
    "plt.show()"
   ]
  },
  {
   "cell_type": "markdown",
   "id": "e2c66f10",
   "metadata": {},
   "source": [
    "# Task 2: Data Exploration"
   ]
  },
  {
   "cell_type": "markdown",
   "id": "639c222e",
   "metadata": {},
   "source": [
    "## Task 2.1 "
   ]
  },
  {
   "cell_type": "code",
   "execution_count": null,
   "id": "0b721a02",
   "metadata": {},
   "outputs": [],
   "source": [
    "# Task 2.1\n",
    "# Nominal - Region\n",
    "# Pie chart - to show different categories\n",
    "# Plot to show total % of children in all regions with internet connection at home in each of the country\n",
    "#dia, ax = plt.subplots()\n",
    "primary_copy.groupby('Region').size().plot(kind='pie', \n",
    "                                           title='Plot to show total % of children in all regions with internet connection at home in each of the country', \n",
    "                                           ylabel='',autopct='%1.1f%%', textprops={'fontsize': 10})\n",
    "plt.show()"
   ]
  },
  {
   "cell_type": "code",
   "execution_count": null,
   "id": "f52b7afe",
   "metadata": {},
   "outputs": [],
   "source": [
    "# Ordinal - Income Group\n",
    "# Visualise the total wrt income group\n",
    "# Bar plot - for catergories\n",
    "fig = plt.figure(figsize = (10, 5))\n",
    " \n",
    "# creating the bar plot\n",
    "plt.bar(primary_copy['Income Group'], primary_copy['Total'], color='crimson', width = 0.5)\n",
    "plt.xlabel(\"Income Group\")\n",
    "plt.ylabel(\"Total % of Internet connection at children's home\")\n",
    "plt.title(\"Overall Percent of children aged (3-17) with internet connection w.r.t. Income Group\")\n",
    "plt.show()"
   ]
  },
  {
   "cell_type": "code",
   "execution_count": null,
   "id": "2e931e4d",
   "metadata": {},
   "outputs": [],
   "source": [
    "# Task 2.1\n",
    "# Numerical - Urban\n",
    "# Scatter plot to see relation between children in Urban residence having internet connection at home over different survey years\n",
    "# Sorting the dataset wrt to 'Survey Year' in ascending order\n",
    "primary_copy_sorted = primary_copy.sort_values(by=['Survey Year'])\n",
    "primary_copy_sorted.plot(kind='scatter', x=9, y=6, \n",
    "                         title='Scatter plot to see relation between children in Urban residence having internet connection at home over different survey years', \n",
    "                        color='black')\n",
    "plt.xlabel(\"Survey Year\")\n",
    "plt.ylabel(\"% Urban (Residence)\")\n",
    "plt.show()"
   ]
  },
  {
   "cell_type": "markdown",
   "id": "aef4a442",
   "metadata": {},
   "source": [
    "## Task 2.2"
   ]
  },
  {
   "cell_type": "code",
   "execution_count": null,
   "id": "2ce1535d",
   "metadata": {},
   "outputs": [],
   "source": [
    "# Task 2.2\n",
    "\n",
    "# Top 10 countries in terms of Rural (Residence) and Upper middle income (UM)\n",
    "total_um = total_school_age_copy[(total_school_age_copy['Income Group']=='Upper middle income (UM)')]\n",
    "top10_total_um_rural = total_um.nlargest(10, ['Rural (Residence)'])\n",
    "top10_total_um_rural = top10_total_um_rural[['Countries and areas', 'Income Group', 'Rural (Residence)']]\n",
    "\n",
    "# Plot for top 10 countries and areas w.r.t. Upper Middle Income (UM) and Rural (Residence)\n",
    "fig, ax1 = plt.subplots()\n",
    "ax1.bar(top10_total_um_rural['Countries and areas'], top10_total_um_rural['Rural (Residence)'], color='olive')\n",
    "plt.setp(ax1.get_xticklabels(), rotation=30, horizontalalignment='right')\n",
    "plt.xlabel(\"Countries and areas\")\n",
    "plt.ylabel(\"% Rural (Residence)\")\n",
    "plt.title(\"Plot for top 10 countries and areas w.r.t. Upper Middle Income (UM) and Rural (Residence)\")\n",
    "plt.show()"
   ]
  },
  {
   "cell_type": "code",
   "execution_count": null,
   "id": "d0c81c3a",
   "metadata": {},
   "outputs": [],
   "source": [
    "# Top 10 countries in terms of Urban (Residence) and Upper middle income (UM)\n",
    "top10_total_um_urban = total_um.nlargest(10, ['Urban (Residence)'])\n",
    "top10_total_um_urban = top10_total_um_urban[['Countries and areas', 'Income Group', 'Urban (Residence)']]\n",
    "\n",
    "# Plot for top 10 countries and areas w.r.t. Upper Middle Income (UM) and Urban (Residence)\n",
    "fig, ax1 = plt.subplots()\n",
    "ax1.bar(top10_total_um_urban['Countries and areas'], top10_total_um_urban['Urban (Residence)'], color='orange')\n",
    "plt.setp(ax1.get_xticklabels(), rotation=30, horizontalalignment='right')\n",
    "plt.xlabel(\"Countries and areas\")\n",
    "plt.ylabel(\"% Urban (Residence)\")\n",
    "plt.title(\"Plot for top 10 countries and areas w.r.t. Upper Middle Income (UM) and Urban (Residence)\")\n",
    "plt.show()"
   ]
  },
  {
   "cell_type": "code",
   "execution_count": null,
   "id": "68d430b6",
   "metadata": {},
   "outputs": [],
   "source": [
    "# Top 10 countries in terms of Rural (Residence) and Lower middle income (LM)\n",
    "total_lm = total_school_age_copy[(total_school_age_copy['Income Group']=='Lower middle income (LM)')]\n",
    "top10_total_lm_rural = total_lm.nlargest(10, ['Rural (Residence)'])\n",
    "top10_total_lm_rural = top10_total_lm_rural[['Countries and areas', 'Income Group', 'Rural (Residence)']]\n",
    "\n",
    "# Plot for top 10 countries and areas w.r.t. Lower Middle Income (UM) and Rural (Residence)\n",
    "fig, ax1 = plt.subplots()\n",
    "ax1.bar(top10_total_lm_rural['Countries and areas'], top10_total_lm_rural['Rural (Residence)'], color='gray')\n",
    "plt.setp(ax1.get_xticklabels(), rotation=30, horizontalalignment='right')\n",
    "plt.xlabel(\"Countries and areas\")\n",
    "plt.ylabel(\"% Rural (Residence)\")\n",
    "plt.title(\"Plot for top 10 countries and areas w.r.t. Lower Middle Income (UM) and Rural (Residence)\")\n",
    "plt.show()"
   ]
  },
  {
   "cell_type": "code",
   "execution_count": null,
   "id": "389a45d5",
   "metadata": {},
   "outputs": [],
   "source": [
    "# Top 10 countries in terms of Urban (Residence) and Lower middle income (LM)\n",
    "top10_total_lm_urban = total_lm.nlargest(10, ['Urban (Residence)'])\n",
    "top10_total_lm_urban = top10_total_lm_urban[['Countries and areas', 'Income Group', 'Urban (Residence)']]\n",
    "\n",
    "# Plot for top 10 countries and areas w.r.t. Lower Middle Income (UM) and Urban (Residence)\n",
    "fig, ax1 = plt.subplots()\n",
    "ax1.bar(top10_total_lm_urban['Countries and areas'], top10_total_lm_urban['Urban (Residence)'], color='navy')\n",
    "plt.setp(ax1.get_xticklabels(), rotation=30, horizontalalignment='right')\n",
    "plt.xlabel(\"Countries and areas\")\n",
    "plt.ylabel(\"% Urban (Residence)\")\n",
    "plt.title(\"Plot for top 10 countries and areas w.r.t. Lower Middle Income (UM) and Urban (Residence)\")\n",
    "plt.show()"
   ]
  },
  {
   "cell_type": "code",
   "execution_count": null,
   "id": "8d9a84a5",
   "metadata": {},
   "outputs": [],
   "source": [
    "# Top 10 countries in terms of Rural (Residence) and Low income (L)\n",
    "total_low = total_school_age_copy[(total_school_age_copy['Income Group']=='Low income (L)')]\n",
    "top10_total_low_rural = total_low.nlargest(10, ['Rural (Residence)'])\n",
    "top10_total_low_rural = top10_total_lm_rural[['Countries and areas', 'Income Group', 'Rural (Residence)']]\n",
    "\n",
    "# Plot for top 10 countries and areas w.r.t. Low Income (L) and Rural (Residence)\n",
    "fig, ax1 = plt.subplots()\n",
    "ax1.bar(top10_total_low_rural['Countries and areas'], top10_total_low_rural['Rural (Residence)'], color='purple')\n",
    "plt.setp(ax1.get_xticklabels(), rotation=30, horizontalalignment='right')\n",
    "plt.xlabel(\"Countries and areas\")\n",
    "plt.ylabel(\"% Rural (Residence)\")\n",
    "plt.title(\"Plot for top 10 countries and areas w.r.t. Low Income (L) and Rural (Residence)\")\n",
    "plt.show()"
   ]
  },
  {
   "cell_type": "code",
   "execution_count": null,
   "id": "d58617fd",
   "metadata": {},
   "outputs": [],
   "source": [
    "# Top 10 countries in terms of Urban (Residence) and Low income (L)\n",
    "top10_total_low_urban = total_low.nlargest(10, ['Urban (Residence)'])\n",
    "top10_total_low_urban = top10_total_low_urban[['Countries and areas', 'Income Group', 'Urban (Residence)']]\n",
    "\n",
    "# Plot for top 10 countries and areas w.r.t. Low Income (L) and Urban (Residence)\n",
    "fig, ax1 = plt.subplots()\n",
    "ax1.bar(top10_total_low_urban['Countries and areas'], top10_total_low_urban['Urban (Residence)'], color='green')\n",
    "plt.setp(ax1.get_xticklabels(), rotation=30, horizontalalignment='right')\n",
    "plt.xlabel(\"Countries and areas\")\n",
    "plt.ylabel(\"% Urban (Residence)\")\n",
    "plt.title(\"Plot for top 10 countries and areas w.r.t. Low Income (L) and Urban (Residence)\")\n",
    "plt.show()"
   ]
  },
  {
   "cell_type": "code",
   "execution_count": null,
   "id": "bdb2b2b1",
   "metadata": {},
   "outputs": [],
   "source": [
    "# Top 10 countries in terms of Rural (Residence) and High income (H)\n",
    "total_high = total_school_age_copy[(total_school_age_copy['Income Group']=='High income (H)')]\n",
    "top10_total_high_rural = total_high.nlargest(10, ['Rural (Residence)'])\n",
    "top10_total_high_rural = top10_total_high_rural[['Countries and areas', 'Income Group', 'Rural (Residence)']]\n",
    "\n",
    "# Plot for top 10 countries and areas w.r.t. High Income (H) and Rural (Residence)\n",
    "fig, ax1 = plt.subplots()\n",
    "ax1.bar(top10_total_high_rural['Countries and areas'], top10_total_high_rural['Rural (Residence)'], color='violet')\n",
    "plt.setp(ax1.get_xticklabels(), rotation=30, horizontalalignment='right')\n",
    "plt.xlabel(\"Countries and areas\")\n",
    "plt.ylabel(\"% Rural (Residence)\")\n",
    "plt.title(\"Plot for top 10 countries and areas w.r.t. High Income (H) and Rural (Residence)\")\n",
    "plt.show()"
   ]
  },
  {
   "cell_type": "code",
   "execution_count": null,
   "id": "c5e300fa",
   "metadata": {},
   "outputs": [],
   "source": [
    "# Top 10 countries in terms of Urban (Residence) and High income (H)\n",
    "top10_total_high_urban = total_high.nlargest(10, ['Urban (Residence)'])\n",
    "top10_total_high_urban = top10_total_high_urban[['Countries and areas', 'Income Group', 'Total', 'Urban (Residence)']]\n",
    "\n",
    "# Plot for top 10 countries and areas w.r.t. High Income (H) and Urban (Residence)\n",
    "fig, ax1 = plt.subplots()\n",
    "ax1.bar(top10_total_high_urban['Countries and areas'], top10_total_high_urban['Urban (Residence)'], color='brown')\n",
    "plt.setp(ax1.get_xticklabels(), rotation=30, horizontalalignment='right')\n",
    "plt.xlabel(\"Countries and areas\")\n",
    "plt.ylabel(\"% Urban (Residence)\")\n",
    "plt.title(\"Plot for top 10 countries and areas w.r.t. High Income (H) and Urban (Residence)\")\n",
    "plt.show()"
   ]
  },
  {
   "cell_type": "markdown",
   "id": "f93b5abc",
   "metadata": {},
   "source": [
    "## Task 2.3"
   ]
  },
  {
   "cell_type": "code",
   "execution_count": null,
   "id": "9639cca4",
   "metadata": {},
   "outputs": [],
   "source": [
    "# Filtering out data based on Income Group = 'Lower middle income (LM)'\n",
    "lm_primary = primary_copy.loc[primary_copy['Income Group']=='Lower middle income (LM)']\n",
    "lm_secondary = secondary_copy.loc[secondary_copy['Income Group']=='Lower middle income (LM)']"
   ]
  },
  {
   "cell_type": "code",
   "execution_count": null,
   "id": "9bd991f0",
   "metadata": {},
   "outputs": [],
   "source": [
    "# Selecting only the needed columns from the resulted dataframe\n",
    "lm_primary = lm_primary[['Income Group','Total', 'Rural (Residence)', 'Urban (Residence)', 'Poorest (Wealth quintile)', 'Richest (Wealth quintile)']]\n",
    "lm_secondary = lm_secondary[['Income Group', 'Total', 'Rural (Residence)', 'Urban (Residence)', 'Poorest (Wealth quintile)', 'Richest (Wealth quintile)']]"
   ]
  },
  {
   "cell_type": "code",
   "execution_count": null,
   "id": "ba4f6255",
   "metadata": {},
   "outputs": [],
   "source": [
    "# Summing the values and creating a new column 'Education Level' and assigning it to a new data frame for Primary\n",
    "primary_total = lm_primary.groupby('Income Group').sum()\n",
    "primary_total['Education Level'] = 'Primary'\n",
    "print(primary_total)"
   ]
  },
  {
   "cell_type": "code",
   "execution_count": null,
   "id": "3bf60e5b",
   "metadata": {},
   "outputs": [],
   "source": [
    "# Summing the values and creating a new column 'Education Level' and assigning it to a new data frame for Secondary\n",
    "secondary_total = lm_secondary.groupby('Income Group').sum()\n",
    "secondary_total['Education Level'] = 'Secondary'\n",
    "print(secondary_total)"
   ]
  },
  {
   "cell_type": "code",
   "execution_count": null,
   "id": "a07a3f88",
   "metadata": {},
   "outputs": [],
   "source": [
    "# Merging the dataframes\n",
    "merged_df = pd.concat([primary_total, secondary_total], axis=0, ignore_index=True)\n",
    "print(merged_df)"
   ]
  },
  {
   "cell_type": "code",
   "execution_count": null,
   "id": "02027976",
   "metadata": {},
   "outputs": [],
   "source": [
    "# Plotting to compare the percentges of Primary and Secondary\n",
    "merged_df.plot(x=\"Education Level\", y=[\"Total\", 'Rural (Residence)', 'Urban (Residence)', \n",
    "                                       'Poorest (Wealth quintile)', 'Richest (Wealth quintile)'], kind=\"bar\")\n",
    "plt.legend(labels=[\"% Total\", '% Rural (Residence)', '% Urban (Residence)', \n",
    "                   '% Poorest (Wealth quintile)', '% Richest (Wealth quintile)'], loc='upper center', fontsize=7.5)\n",
    "plt.ylabel('Values in %')\n",
    "plt.title('Compare the % of the Primary & Secondary in Lower middle income (LM) group')\n",
    "plt.show()"
   ]
  }
 ],
 "metadata": {
  "kernelspec": {
   "display_name": "Python 3",
   "language": "python",
   "name": "python3"
  },
  "language_info": {
   "codemirror_mode": {
    "name": "ipython",
    "version": 3
   },
   "file_extension": ".py",
   "mimetype": "text/x-python",
   "name": "python",
   "nbconvert_exporter": "python",
   "pygments_lexer": "ipython3",
   "version": "3.8.8"
  }
 },
 "nbformat": 4,
 "nbformat_minor": 5
}
